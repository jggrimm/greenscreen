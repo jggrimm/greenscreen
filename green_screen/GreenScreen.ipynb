{
 "cells": [
  {
   "cell_type": "code",
   "execution_count": null,
   "metadata": {},
   "outputs": [],
   "source": [
    "# FIRST import all the necessary libraries and modules!\n",
    "import cv2               # import OpenCV\n",
    "import numpy as np       # import NumPy\n",
    "\n",
    "# import instructor made functions \n",
    "import sys\n",
    "sys.path.insert(0, '..')\n",
    "from utils import *"
   ]
  },
  {
   "cell_type": "markdown",
   "metadata": {},
   "source": [
    "# Green Screen Lab\n",
    "\n",
    "<p style='font-size:1.75rem;line-height:1.5'>\n",
    "    Ever seen how weather reporting uses <b style=\"color:green\">green screens</b> so that the <b style=\"color:green\">green background</b> can be replaced with the <b style=\"color:blue\">current weather map</b>?\n",
    "    </p>\n",
    "\n",
    "<img src=\"green_screen_weather.png\" alt=\"green_screen_weather\" style=\"width: 700px;\"/>\n",
    "\n",
    "<p style='font-size:1.75rem;line-height:1.5'>\n",
    "    Many famous movies also use <b style=\"color:green\">green screens</b> to create some pretty cool scenes! \n",
    "    </p>\n",
    "\n",
    "<p style='font-size:1.75rem;line-height:1.5'>\n",
    "    Below is a scene from Marvel's Iron Man, which uses a <b style=\"color:green\">green screen</b> to recreate RDJ's <b style=\"color:blue\">suit</b>, as well as the <b style=\"color:blue\">background</b>. \n",
    "    </p>\n",
    "\n",
    "<img src=\"green_screen_ironman.png\" alt=\"green_screen_ironman\" style=\"width: 500px;\"/>\n",
    "\n",
    "<p style='font-size:1.75rem;line-height:1.5'>\n",
    "    <br> Using the tools we've learned so far.. <b>We can do this too!</b> \n",
    "    <br> Let's learn how to replace a <b style=\"color:green\">green background</b> with a <b style=\"color:blue\">different image</b>!\n",
    "    <br><br> Read more about how green screens work [<a href=\"https://www.videomaker.com/article/c10/17026-how-does-green-screen-work\">here</a>].\n",
    "    </p>\n"
   ]
  },
  {
   "cell_type": "markdown",
   "metadata": {},
   "source": [
    "# Live Video \n",
    "<p style='font-size:1.75rem;line-height:1.5'>\n",
    "    <b style=\"color:red\">Open a video</b> in a popup window. Press 'ESC' to close. \n",
    "    </p>\n",
    "\n",
    "<p style='font-size:1.75rem;line-height:1.5'>\n",
    "    <b style=\"color:blue\">Make sure that you have a webcam connected to your laptop!</b>\n",
    "    </p>"
   ]
  },
  {
   "cell_type": "code",
   "execution_count": null,
   "metadata": {},
   "outputs": [],
   "source": [
    "def show_frame(frame):\n",
    "    cv2.imshow('video', frame)\n",
    "video(show_frame)"
   ]
  },
  {
   "cell_type": "markdown",
   "metadata": {},
   "source": [
    "# HSV Values"
   ]
  },
  {
   "cell_type": "markdown",
   "metadata": {},
   "source": [
    "### Find the <b style=\"color:red\">HSV color range</b>\n",
    "\n",
    "<p style='font-size:1.75rem;line-height:1.5'>\n",
    "    Run the cell below to find your desired HSV color range.\n",
    "    </p>"
   ]
  },
  {
   "cell_type": "code",
   "execution_count": null,
   "metadata": {},
   "outputs": [],
   "source": [
    "# Use hsv_select to mask the green! \n",
    "hsv_select_live()"
   ]
  },
  {
   "cell_type": "markdown",
   "metadata": {},
   "source": [
    "### Specify the <b style=\"color:blue\">HSV lower and upper values</b>\n",
    "\n",
    "<p style='font-size:1.75rem;line-height:1.5'>\n",
    "    Replace \"None\" with the integers you found above.\n",
    "    </p>"
   ]
  },
  {
   "cell_type": "code",
   "execution_count": null,
   "metadata": {},
   "outputs": [],
   "source": [
    "HSV_LOWER = (None, None, None)\n",
    "HSV_UPPER = (None, None, None)"
   ]
  },
  {
   "cell_type": "markdown",
   "metadata": {},
   "source": [
    "# Choose Background Image\n",
    "\n",
    "<p style='font-size:1.75rem;line-height:1.5'>\n",
    "    <ol>\n",
    "        <li style='font-size:1.75rem;line-height:1.5'>Find an image you would like to use as your background.</li>\n",
    "        <li style='font-size:1.75rem;line-height:1.5'>Save the image into the \"green_screen\" folder on your computer.</li>\n",
    "        <li style='font-size:1.75rem;line-height:1.5'>Replace the image name below.</li>\n",
    "    </ol>\n",
    "</p>"
   ]
  },
  {
   "cell_type": "code",
   "execution_count": null,
   "metadata": {},
   "outputs": [],
   "source": [
    "# Find and specify the background image you want to use!\n",
    "FILENAME = \"background.jpg\""
   ]
  },
  {
   "cell_type": "markdown",
   "metadata": {},
   "source": [
    "# Live Green Screen \n",
    "\n",
    "<p style='font-size:1.75rem;line-height:1.5'>\n",
    "    Let's make a <b style=\"color:green\">green screen</b> for videos. \n",
    "    </p>"
   ]
  },
  {
   "cell_type": "code",
   "execution_count": null,
   "metadata": {},
   "outputs": [],
   "source": [
    "def overlay_background(frame):\n",
    "    background_img = cv2.imread(FILENAME)\n",
    "    res = screenProcessing(frame, background_img, HSV_LOWER, HSV_UPPER)\n",
    "    cv2.imshow('res', res)\n",
    "\n",
    "video(overlay_background)"
   ]
  }
 ],
 "metadata": {
  "kernelspec": {
   "display_name": "Python 2",
   "language": "python",
   "name": "python2"
  },
  "language_info": {
   "codemirror_mode": {
    "name": "ipython",
    "version": 2
   },
   "file_extension": ".py",
   "mimetype": "text/x-python",
   "name": "python",
   "nbconvert_exporter": "python",
   "pygments_lexer": "ipython2",
   "version": "2.7.16"
  }
 },
 "nbformat": 4,
 "nbformat_minor": 2
}
