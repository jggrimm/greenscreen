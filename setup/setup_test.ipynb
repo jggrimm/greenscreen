{
 "cells": [
  {
   "cell_type": "markdown",
   "metadata": {},
   "source": [
    "### Imports"
   ]
  },
  {
   "cell_type": "code",
   "execution_count": null,
   "metadata": {},
   "outputs": [],
   "source": [
    "# imports test\n",
    "import cv2\n",
    "import numpy as np\n",
    "import matplotlib\n",
    "from matplotlib import pyplot as plt\n",
    "%matplotlib inline\n",
    "\n",
    "# import instructor made functions \n",
    "import sys\n",
    "sys.path.insert(0, '..')\n",
    "from utils import *"
   ]
  },
  {
   "cell_type": "markdown",
   "metadata": {},
   "source": [
    "### Package Versions"
   ]
  },
  {
   "cell_type": "code",
   "execution_count": null,
   "metadata": {},
   "outputs": [],
   "source": [
    "# check package versions\n",
    "print('cv2 version: {}'.format(cv2.__version__))\n",
    "print('numpy version: {}'.format(np.version.version))\n",
    "print('matplotlib verison: {}'.format(matplotlib.__version__))"
   ]
  },
  {
   "cell_type": "markdown",
   "metadata": {},
   "source": [
    "### NumPy"
   ]
  },
  {
   "cell_type": "code",
   "execution_count": null,
   "metadata": {},
   "outputs": [],
   "source": [
    "# numpy test - create array of zeros\n",
    "np.zeros((500,500,3),np.uint8)"
   ]
  },
  {
   "cell_type": "markdown",
   "metadata": {},
   "source": [
    "### Matplotlib + Pyplot"
   ]
  },
  {
   "cell_type": "code",
   "execution_count": null,
   "metadata": {},
   "outputs": [],
   "source": [
    "# pyplot test - display image in jupyter via pyplot\n",
    "import numpy as np\n",
    "import cv2\n",
    "from matplotlib import pyplot as plt\n",
    "%matplotlib inline\n",
    "\n",
    "# create checkerboard pattern numpy array\n",
    "img = np.array([[0, 1, 0, 1, 0, 1, 0, 1, 0, 1],\n",
    "               [1, 0, 1, 0, 1, 0, 1, 0, 1, 0],\n",
    "               [0, 1, 0, 1, 0, 1, 0, 1, 0, 1],\n",
    "               [1, 0, 1, 0, 1, 0, 1, 0, 1, 0],\n",
    "               [0, 1, 0, 1, 0, 1, 0, 1, 0, 1],\n",
    "               [1, 0, 1, 0, 1, 0, 1, 0, 1, 0],\n",
    "               [0, 1, 0, 1, 0, 1, 0, 1, 0, 1],\n",
    "               [1, 0, 1, 0, 1, 0, 1, 0, 1, 0],\n",
    "               [0, 1, 0, 1, 0, 1, 0, 1, 0, 1],\n",
    "               [1, 0, 1, 0, 1, 0, 1, 0, 1, 0]])\n",
    "\n",
    "# show image\n",
    "plt.imshow(img)\n",
    "plt.show()"
   ]
  },
  {
   "cell_type": "markdown",
   "metadata": {},
   "source": [
    "### CV2 Image"
   ]
  },
  {
   "cell_type": "code",
   "execution_count": null,
   "metadata": {},
   "outputs": [],
   "source": [
    "# cv2 test - modify and show an image with opencv\n",
    "import cv2\n",
    "\n",
    "# read image\n",
    "img = cv2.imread(\"surprised_pikachu.png\")\n",
    "\n",
    "# draw line on image\n",
    "cv2.line(img,(0,0),(499,499),(255,0,0),5)\n",
    "\n",
    "# show image\n",
    "cv2.imshow(\"image\",img)\n",
    "cv2.waitKey(0)\n",
    "cv2.destroyAllWindows()\n",
    "cv2.waitKey(1)"
   ]
  },
  {
   "cell_type": "markdown",
   "metadata": {},
   "source": [
    "### CV2 SIFT/SURF"
   ]
  },
  {
   "cell_type": "code",
   "execution_count": null,
   "metadata": {},
   "outputs": [],
   "source": [
    "# cv2 SIFT/SURF test - run feature detection to make sure opencv-contrib is compatible\n",
    "\n",
    "import cv2\n",
    "\n",
    "# read image into grayscale\n",
    "img = cv2.imread('mit_stata_center.jpg')\n",
    "gray = cv2.cvtColor(img, cv2.COLOR_BGR2GRAY)\n",
    "\n",
    "# get SIFT keypoints & descriptors\n",
    "sift = cv2.xfeatures2d.SIFT_create()\n",
    "(keypoints, descriptors) = sift.detectAndCompute(gray, None)\n",
    "print('# keypoints: {}, descriptors: {}'.format(len(keypoints), descriptors.shape))\n",
    "\n",
    "# draw keypoints ([flags] 0:kp+grayscale, 1:kp+color, cv2.DRAW_MATCHES_FLAGS_DRAW_RICH_KEYPOINTS:kp+size+orientation)\n",
    "cv2.drawKeypoints(gray, keypoints, img, flags=2)\n",
    "\n",
    "# show image\n",
    "cv2.imshow('img', img)\n",
    "cv2.waitKey(0)\n",
    "cv2.destroyAllWindows()\n",
    "cv2.waitKey(1)"
   ]
  },
  {
   "cell_type": "markdown",
   "metadata": {},
   "source": [
    "### CV2 Video"
   ]
  },
  {
   "cell_type": "code",
   "execution_count": null,
   "metadata": {},
   "outputs": [],
   "source": [
    "# video camera test - show raw video stream\n",
    "import numpy as np\n",
    "import cv2\n",
    "\n",
    "cap = cv2.VideoCapture(0)\n",
    "\n",
    "while(True):\n",
    "    # Capture frame-by-frame\n",
    "    ret, frame = cap.read()\n",
    "\n",
    "    # Display the resulting frame\n",
    "    cv2.imshow('frame',frame)\n",
    "    if cv2.waitKey(5) & 0xFF == 27: #Press `esc` to exit\n",
    "        break\n",
    "\n",
    "# When everything done, release the capture\n",
    "cap.release()\n",
    "cv2.destroyAllWindows()\n",
    "cv2.waitKey(1)"
   ]
  },
  {
   "cell_type": "markdown",
   "metadata": {},
   "source": [
    "### CV2 Video Overlay"
   ]
  },
  {
   "cell_type": "code",
   "execution_count": null,
   "metadata": {},
   "outputs": [],
   "source": [
    "# video/cv2 test - modify and show video with opencv\n",
    "\n",
    "import numpy as np\n",
    "import cv2\n",
    "\n",
    "cap = cv2.VideoCapture(0)\n",
    "\n",
    "while(True):\n",
    "    # Capture frame-by-frame\n",
    "    ret, frame = cap.read()\n",
    "\n",
    "    # Display the resulting frame\n",
    "    \n",
    "    font = cv2.FONT_HERSHEY_SIMPLEX\n",
    "    cv2.putText(frame,'This is okay; press `esc` to exit',(10,500), font, 2,(255,255,255),2,cv2.LINE_AA)\n",
    "    cv2.imshow('frame',frame)\n",
    "    if cv2.waitKey(5) & 0xFF == 27:\n",
    "        break\n",
    "\n",
    "# When everything done, release the capture\n",
    "cap.release()\n",
    "cv2.destroyAllWindows()\n",
    "cv2.waitKey(1)"
   ]
  },
  {
   "cell_type": "markdown",
   "metadata": {},
   "source": [
    "### CV2 HSV Select"
   ]
  },
  {
   "cell_type": "code",
   "execution_count": null,
   "metadata": {},
   "outputs": [],
   "source": [
    "hsv_select(\"surprised_pikachu.png\")"
   ]
  },
  {
   "cell_type": "markdown",
   "metadata": {},
   "source": [
    "### CV2 HSV Select Live"
   ]
  },
  {
   "cell_type": "code",
   "execution_count": null,
   "metadata": {},
   "outputs": [],
   "source": [
    "hsv_select_live()"
   ]
  }
 ],
 "metadata": {
  "kernelspec": {
   "display_name": "Python 2",
   "language": "python",
   "name": "python2"
  },
  "language_info": {
   "codemirror_mode": {
    "name": "ipython",
    "version": 2
   },
   "file_extension": ".py",
   "mimetype": "text/x-python",
   "name": "python",
   "nbconvert_exporter": "python",
   "pygments_lexer": "ipython2",
   "version": "2.7.16"
  }
 },
 "nbformat": 4,
 "nbformat_minor": 2
}
